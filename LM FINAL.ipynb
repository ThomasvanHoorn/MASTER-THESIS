{
 "cells": [
  {
   "cell_type": "code",
   "execution_count": 2,
   "id": "73841447",
   "metadata": {},
   "outputs": [],
   "source": [
    "#load libraries\n",
    "\n",
    "import numpy as np\n",
    "import pandas as pd\n",
    "from sklearn.metrics import \\\n",
    "    r2_score, get_scorer\n",
    "from sklearn.linear_model import \\\n",
    "    Lasso, Ridge, LassoCV,LinearRegression\n",
    "from sklearn.preprocessing import \\\n",
    "    StandardScaler, PolynomialFeatures\n",
    "from sklearn.model_selection import \\\n",
    "    KFold, RepeatedKFold, GridSearchCV, \\\n",
    "    cross_validate, train_test_split\n",
    "\n",
    "\n",
    "from sklearn.preprocessing import MinMaxScaler\n",
    "\n",
    "from scipy.stats.mstats import winsorize\n",
    "\n",
    "from tqdm import tqdm"
   ]
  },
  {
   "cell_type": "code",
   "execution_count": 3,
   "id": "4b529d78",
   "metadata": {},
   "outputs": [],
   "source": [
    "#load data --> winsorize data --> scale data\n",
    "\n",
    "df = pd.read_csv ('/Volumes/USB THOMAS/THESIS NEW/DATA/8. MERGE FILES (FINAL DATASET)/Dataset_unscaled.csv', index_col=0)\n",
    "df.sort_values(by=['year','month'], inplace=True)\n",
    "df = df.reset_index(drop=True)\n",
    "\n",
    "df.iloc[:,16:] = df.iloc[:,16:].apply(lambda x : winsorize(x,(0.1,0.1)))\n",
    "\n",
    "cols_to_scale = list(df.iloc[:,15:].columns)\n",
    "min_max_scaler = MinMaxScaler(feature_range=(-1, 1))\n",
    "\n",
    "df[cols_to_scale] = min_max_scaler.fit_transform(df[cols_to_scale])"
   ]
  },
  {
   "cell_type": "code",
   "execution_count": 4,
   "id": "bde9f89f",
   "metadata": {},
   "outputs": [
    {
     "name": "stderr",
     "output_type": "stream",
     "text": [
      "100%|█████████████████████████████████████████████| 5/5 [00:00<00:00,  5.38it/s]\n",
      "100%|█████████████████████████████████████████████| 5/5 [00:00<00:00,  7.50it/s]\n",
      "100%|█████████████████████████████████████████████| 5/5 [00:00<00:00,  8.67it/s]\n",
      "100%|█████████████████████████████████████████████| 5/5 [00:00<00:00,  9.02it/s]\n",
      "100%|█████████████████████████████████████████████| 5/5 [00:00<00:00,  8.95it/s]\n",
      "100%|█████████████████████████████████████████████| 5/5 [00:00<00:00,  9.09it/s]"
     ]
    },
    {
     "name": "stdout",
     "output_type": "stream",
     "text": [
      "[['IV_D_C_30', 9.02490778628927], ['IV_D_P_30', 9.483842328430626], ['IV_D_C_60', 11.35495927399528], ['IV_D_P_60', 11.72974882399811], ['IV_D_C_91', 11.472049914495653], ['IV_D_P_91', 10.940698664605952]]\n"
     ]
    },
    {
     "name": "stderr",
     "output_type": "stream",
     "text": [
      "\n"
     ]
    }
   ],
   "source": [
    "R2_list_lm = []\n",
    "\n",
    "for name in df.iloc[:,9:15]:\n",
    "    \n",
    "    df_iter = df[df[name] <= df[name].quantile(0.95)].copy()\n",
    "    \n",
    "    for p in range(1,6):\n",
    "    \n",
    "        years = np.arange(1996, 2013+p, 1)\n",
    "\n",
    "        locals()['df_train_' + str(p)] = df_iter[df_iter.year.isin(years)]\n",
    "\n",
    "        year = [2013 + p,2014 + p,2015 + p]\n",
    "\n",
    "        locals()['df_val_' + str(p)] = df_iter[df_iter.year.isin(year)]\n",
    "\n",
    "        year = [2016 + p]\n",
    "\n",
    "        locals()['df_test_' + str(p)] = df_iter[df_iter.year.isin(year)]\n",
    "\n",
    "    true = []\n",
    "    predicted = []\n",
    "\n",
    "    for j in tqdm(range(1,6)):\n",
    "        y_train = globals()['df_train_'+str(j)][name]\n",
    "        y_val = globals()['df_val_'+str(j)][name]\n",
    "        y_test = globals()['df_test_'+str(j)][name]\n",
    "\n",
    "        X_train = globals()['df_train_'+str(j)].iloc[:,16:]\n",
    "        X_val = globals()['df_val_'+str(j)].iloc[:,16:]\n",
    "        X_test = globals()['df_test_'+str(j)].iloc[:,16:]\n",
    "\n",
    "        model = LinearRegression()\n",
    "\n",
    "        model.fit(X_train,y_train)\n",
    "\n",
    "        y_pred_test = model.predict(X_test)\n",
    "\n",
    "        true.extend(y_test)\n",
    "\n",
    "        predicted.extend(y_pred_test)\n",
    "    \n",
    "    R2_list_lm.append([name,r2_score(true, predicted)*100])\n",
    "    \n",
    "print(R2_list_lm)"
   ]
  },
  {
   "cell_type": "code",
   "execution_count": 6,
   "id": "a11ff3cf",
   "metadata": {},
   "outputs": [
    {
     "name": "stderr",
     "output_type": "stream",
     "text": [
      "100%|█████████████████████████████████████████████| 5/5 [00:00<00:00,  9.66it/s]"
     ]
    },
    {
     "name": "stdout",
     "output_type": "stream",
     "text": [
      "[['IV_D_C_30', 8.940095791380177]]\n"
     ]
    },
    {
     "name": "stderr",
     "output_type": "stream",
     "text": [
      "\n"
     ]
    }
   ],
   "source": [
    "# FINVARS ONLY\n",
    "\n",
    "R2_list_lm = []\n",
    "\n",
    "for name in df.iloc[:,9:10]:\n",
    "    \n",
    "    df_iter = df[df[name] <= df[name].quantile(0.95)].copy()\n",
    "    \n",
    "    for p in range(1,6):\n",
    "    \n",
    "        years = np.arange(1996, 2013+p, 1)\n",
    "\n",
    "        locals()['df_train_' + str(p)] = df_iter[df_iter.year.isin(years)]\n",
    "\n",
    "        year = [2013 + p,2014 + p,2015 + p]\n",
    "\n",
    "        locals()['df_val_' + str(p)] = df_iter[df_iter.year.isin(year)]\n",
    "\n",
    "        year = [2016 + p]\n",
    "\n",
    "        locals()['df_test_' + str(p)] = df_iter[df_iter.year.isin(year)]\n",
    "\n",
    "    true = []\n",
    "    predicted = []\n",
    "\n",
    "    for j in tqdm(range(1,6)):\n",
    "        y_train = globals()['df_train_'+str(j)][name]\n",
    "        y_val = globals()['df_val_'+str(j)][name]\n",
    "        y_test = globals()['df_test_'+str(j)][name]\n",
    "\n",
    "        X_train = globals()['df_train_'+str(j)].iloc[:,16:60]\n",
    "        X_val = globals()['df_val_'+str(j)].iloc[:,16:60]\n",
    "        X_test = globals()['df_test_'+str(j)].iloc[:,16:60]\n",
    "\n",
    "        model = LinearRegression()\n",
    "\n",
    "        model.fit(X_train,y_train)\n",
    "\n",
    "        y_pred_test = model.predict(X_test)\n",
    "\n",
    "        true.extend(y_test)\n",
    "\n",
    "        predicted.extend(y_pred_test)\n",
    "    \n",
    "    R2_list_lm.append([name,r2_score(true, predicted)*100])\n",
    "    \n",
    "print(R2_list_lm)"
   ]
  },
  {
   "cell_type": "code",
   "execution_count": null,
   "id": "8e567111",
   "metadata": {},
   "outputs": [],
   "source": []
  },
  {
   "cell_type": "code",
   "execution_count": null,
   "id": "15e09282",
   "metadata": {},
   "outputs": [],
   "source": []
  },
  {
   "cell_type": "code",
   "execution_count": null,
   "id": "c2e46f5c",
   "metadata": {},
   "outputs": [],
   "source": []
  },
  {
   "cell_type": "code",
   "execution_count": null,
   "id": "1bceefd1",
   "metadata": {},
   "outputs": [],
   "source": []
  },
  {
   "cell_type": "code",
   "execution_count": null,
   "id": "7f41dcff",
   "metadata": {},
   "outputs": [],
   "source": []
  }
 ],
 "metadata": {
  "kernelspec": {
   "display_name": "Python 3 (ipykernel)",
   "language": "python",
   "name": "python3"
  },
  "language_info": {
   "codemirror_mode": {
    "name": "ipython",
    "version": 3
   },
   "file_extension": ".py",
   "mimetype": "text/x-python",
   "name": "python",
   "nbconvert_exporter": "python",
   "pygments_lexer": "ipython3",
   "version": "3.8.8"
  }
 },
 "nbformat": 4,
 "nbformat_minor": 5
}
