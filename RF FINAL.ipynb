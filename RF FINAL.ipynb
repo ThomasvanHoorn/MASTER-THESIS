{
 "cells": [
  {
   "cell_type": "code",
   "execution_count": 1,
   "id": "b3c8a44c",
   "metadata": {},
   "outputs": [],
   "source": [
    "#load libraries\n",
    "\n",
    "import numpy as np\n",
    "import pandas as pd\n",
    "from sklearn.metrics import \\\n",
    "    r2_score, get_scorer\n",
    "from sklearn.linear_model import \\\n",
    "    LinearRegression\n",
    "from sklearn.preprocessing import \\\n",
    "    StandardScaler\n",
    "\n",
    "from sklearn.preprocessing import MinMaxScaler\n",
    "\n",
    "from scipy.stats.mstats import winsorize\n",
    "\n",
    "from tqdm import tqdm\n",
    "\n",
    "from sklearn.ensemble import RandomForestRegressor\n",
    "\n",
    "from sklearn.model_selection import ParameterGrid"
   ]
  },
  {
   "cell_type": "code",
   "execution_count": 2,
   "id": "725f1410",
   "metadata": {},
   "outputs": [],
   "source": [
    "#load data --> winsorize data --> scale data\n",
    "\n",
    "df = pd.read_csv ('C:\\\\Users\\\\Martijn\\\\Documents\\\\Dataset_unscaled.csv', index_col=0)\n",
    "df.sort_values(by=['year','month'], inplace=True)\n",
    "df = df.reset_index(drop=True)\n",
    "\n",
    "df.iloc[:,16:] = df.iloc[:,16:].apply(lambda x : winsorize(x,(0.1,0.1)))\n",
    "\n",
    "cols_to_scale = list(df.iloc[:,15:].columns)\n",
    "min_max_scaler = MinMaxScaler(feature_range=(-1, 1))\n",
    "\n",
    "df[cols_to_scale] = min_max_scaler.fit_transform(df[cols_to_scale])"
   ]
  },
  {
   "cell_type": "code",
   "execution_count": 5,
   "id": "bfee3331",
   "metadata": {},
   "outputs": [],
   "source": [
    "#create tuning parameters\n",
    "\n",
    "# Number of trees in random forest\n",
    "n_estimators = [300]#,50,150,300]\n",
    "# Number of features to consider at every split\n",
    "max_features = ['sqrt']\n",
    "# Maximum number of levels in tree\n",
    "max_depth = [3,6,12]\n",
    "# Minimum number of samples required to split a node\n",
    "#max_leaf_nodes = [25,50]\n",
    "# Minimum number of samples required at each leaf node\n",
    "#min_samples_leaf = [1,3,5]\n",
    "min_samples_split = [15,30,50]\n",
    "# Method of selecting samples for training each tree\n",
    "bootstrap = [True]"
   ]
  },
  {
   "cell_type": "code",
   "execution_count": 6,
   "id": "69f5cba9",
   "metadata": {},
   "outputs": [],
   "source": [
    "param_grid = {'n_estimators': n_estimators, 'max_features': max_features, \n",
    "              'max_depth': max_depth, 'min_samples_split': min_samples_split,\n",
    "             'bootstrap':bootstrap}\n",
    "train_features = ParameterGrid(param_grid)"
   ]
  },
  {
   "cell_type": "code",
   "execution_count": null,
   "id": "c8cbe91e",
   "metadata": {},
   "outputs": [],
   "source": []
  },
  {
   "cell_type": "code",
   "execution_count": 7,
   "id": "3b2aed4e",
   "metadata": {},
   "outputs": [
    {
     "name": "stderr",
     "output_type": "stream",
     "text": [
      "100%|██████████| 9/9 [07:46<00:00, 51.82s/it]\n"
     ]
    },
    {
     "name": "stdout",
     "output_type": "stream",
     "text": [
      "IV_D_C_30 1 {'n_estimators': 300, 'min_samples_split': 15, 'max_features': 'sqrt', 'max_depth': 6, 'bootstrap': True}\n"
     ]
    },
    {
     "name": "stderr",
     "output_type": "stream",
     "text": [
      "100%|██████████| 9/9 [08:18<00:00, 55.37s/it]\n"
     ]
    },
    {
     "name": "stdout",
     "output_type": "stream",
     "text": [
      "IV_D_C_30 2 {'n_estimators': 300, 'min_samples_split': 50, 'max_features': 'sqrt', 'max_depth': 6, 'bootstrap': True}\n"
     ]
    },
    {
     "name": "stderr",
     "output_type": "stream",
     "text": [
      "100%|██████████| 9/9 [08:55<00:00, 59.47s/it]\n"
     ]
    },
    {
     "name": "stdout",
     "output_type": "stream",
     "text": [
      "IV_D_C_30 3 {'n_estimators': 300, 'min_samples_split': 50, 'max_features': 'sqrt', 'max_depth': 12, 'bootstrap': True}\n"
     ]
    },
    {
     "name": "stderr",
     "output_type": "stream",
     "text": [
      "100%|██████████| 9/9 [09:28<00:00, 63.22s/it]\n"
     ]
    },
    {
     "name": "stdout",
     "output_type": "stream",
     "text": [
      "IV_D_C_30 4 {'n_estimators': 300, 'min_samples_split': 50, 'max_features': 'sqrt', 'max_depth': 12, 'bootstrap': True}\n"
     ]
    },
    {
     "name": "stderr",
     "output_type": "stream",
     "text": [
      "100%|██████████| 9/9 [08:55<00:00, 59.53s/it]\n"
     ]
    },
    {
     "name": "stdout",
     "output_type": "stream",
     "text": [
      "IV_D_C_30 5 {'n_estimators': 300, 'min_samples_split': 15, 'max_features': 'sqrt', 'max_depth': 12, 'bootstrap': True}\n"
     ]
    },
    {
     "name": "stderr",
     "output_type": "stream",
     "text": [
      "100%|██████████| 9/9 [05:59<00:00, 39.89s/it]\n"
     ]
    },
    {
     "name": "stdout",
     "output_type": "stream",
     "text": [
      "IV_D_P_30 1 {'n_estimators': 300, 'min_samples_split': 15, 'max_features': 'sqrt', 'max_depth': 6, 'bootstrap': True}\n"
     ]
    },
    {
     "name": "stderr",
     "output_type": "stream",
     "text": [
      "100%|██████████| 9/9 [06:25<00:00, 42.89s/it]\n"
     ]
    },
    {
     "name": "stdout",
     "output_type": "stream",
     "text": [
      "IV_D_P_30 2 {'n_estimators': 300, 'min_samples_split': 50, 'max_features': 'sqrt', 'max_depth': 12, 'bootstrap': True}\n"
     ]
    },
    {
     "name": "stderr",
     "output_type": "stream",
     "text": [
      "100%|██████████| 9/9 [06:53<00:00, 45.95s/it]\n"
     ]
    },
    {
     "name": "stdout",
     "output_type": "stream",
     "text": [
      "IV_D_P_30 3 {'n_estimators': 300, 'min_samples_split': 30, 'max_features': 'sqrt', 'max_depth': 12, 'bootstrap': True}\n"
     ]
    },
    {
     "name": "stderr",
     "output_type": "stream",
     "text": [
      "100%|██████████| 9/9 [07:20<00:00, 48.98s/it]\n"
     ]
    },
    {
     "name": "stdout",
     "output_type": "stream",
     "text": [
      "IV_D_P_30 4 {'n_estimators': 300, 'min_samples_split': 50, 'max_features': 'sqrt', 'max_depth': 12, 'bootstrap': True}\n"
     ]
    },
    {
     "name": "stderr",
     "output_type": "stream",
     "text": [
      "100%|██████████| 9/9 [07:48<00:00, 52.08s/it]\n"
     ]
    },
    {
     "name": "stdout",
     "output_type": "stream",
     "text": [
      "IV_D_P_30 5 {'n_estimators': 300, 'min_samples_split': 15, 'max_features': 'sqrt', 'max_depth': 12, 'bootstrap': True}\n"
     ]
    },
    {
     "name": "stderr",
     "output_type": "stream",
     "text": [
      "100%|██████████| 9/9 [05:57<00:00, 39.74s/it]\n"
     ]
    },
    {
     "name": "stdout",
     "output_type": "stream",
     "text": [
      "IV_D_C_60 1 {'n_estimators': 300, 'min_samples_split': 30, 'max_features': 'sqrt', 'max_depth': 6, 'bootstrap': True}\n"
     ]
    },
    {
     "name": "stderr",
     "output_type": "stream",
     "text": [
      "100%|██████████| 9/9 [06:25<00:00, 42.84s/it]\n"
     ]
    },
    {
     "name": "stdout",
     "output_type": "stream",
     "text": [
      "IV_D_C_60 2 {'n_estimators': 300, 'min_samples_split': 50, 'max_features': 'sqrt', 'max_depth': 6, 'bootstrap': True}\n"
     ]
    },
    {
     "name": "stderr",
     "output_type": "stream",
     "text": [
      "100%|██████████| 9/9 [06:51<00:00, 45.67s/it]\n"
     ]
    },
    {
     "name": "stdout",
     "output_type": "stream",
     "text": [
      "IV_D_C_60 3 {'n_estimators': 300, 'min_samples_split': 50, 'max_features': 'sqrt', 'max_depth': 12, 'bootstrap': True}\n"
     ]
    },
    {
     "name": "stderr",
     "output_type": "stream",
     "text": [
      "100%|██████████| 9/9 [07:19<00:00, 48.86s/it]\n"
     ]
    },
    {
     "name": "stdout",
     "output_type": "stream",
     "text": [
      "IV_D_C_60 4 {'n_estimators': 300, 'min_samples_split': 50, 'max_features': 'sqrt', 'max_depth': 12, 'bootstrap': True}\n"
     ]
    },
    {
     "name": "stderr",
     "output_type": "stream",
     "text": [
      "100%|██████████| 9/9 [07:47<00:00, 51.98s/it]\n"
     ]
    },
    {
     "name": "stdout",
     "output_type": "stream",
     "text": [
      "IV_D_C_60 5 {'n_estimators': 300, 'min_samples_split': 30, 'max_features': 'sqrt', 'max_depth': 12, 'bootstrap': True}\n"
     ]
    },
    {
     "name": "stderr",
     "output_type": "stream",
     "text": [
      "100%|██████████| 9/9 [05:57<00:00, 39.77s/it]\n"
     ]
    },
    {
     "name": "stdout",
     "output_type": "stream",
     "text": [
      "IV_D_P_60 1 {'n_estimators': 300, 'min_samples_split': 30, 'max_features': 'sqrt', 'max_depth': 6, 'bootstrap': True}\n"
     ]
    },
    {
     "name": "stderr",
     "output_type": "stream",
     "text": [
      "100%|██████████| 9/9 [06:25<00:00, 42.81s/it]\n"
     ]
    },
    {
     "name": "stdout",
     "output_type": "stream",
     "text": [
      "IV_D_P_60 2 {'n_estimators': 300, 'min_samples_split': 30, 'max_features': 'sqrt', 'max_depth': 6, 'bootstrap': True}\n"
     ]
    },
    {
     "name": "stderr",
     "output_type": "stream",
     "text": [
      "100%|██████████| 9/9 [06:51<00:00, 45.68s/it]\n"
     ]
    },
    {
     "name": "stdout",
     "output_type": "stream",
     "text": [
      "IV_D_P_60 3 {'n_estimators': 300, 'min_samples_split': 30, 'max_features': 'sqrt', 'max_depth': 12, 'bootstrap': True}\n"
     ]
    },
    {
     "name": "stderr",
     "output_type": "stream",
     "text": [
      "100%|██████████| 9/9 [07:18<00:00, 48.70s/it]\n"
     ]
    },
    {
     "name": "stdout",
     "output_type": "stream",
     "text": [
      "IV_D_P_60 4 {'n_estimators': 300, 'min_samples_split': 50, 'max_features': 'sqrt', 'max_depth': 12, 'bootstrap': True}\n"
     ]
    },
    {
     "name": "stderr",
     "output_type": "stream",
     "text": [
      "100%|██████████| 9/9 [07:47<00:00, 51.94s/it]\n"
     ]
    },
    {
     "name": "stdout",
     "output_type": "stream",
     "text": [
      "IV_D_P_60 5 {'n_estimators': 300, 'min_samples_split': 15, 'max_features': 'sqrt', 'max_depth': 12, 'bootstrap': True}\n"
     ]
    },
    {
     "name": "stderr",
     "output_type": "stream",
     "text": [
      "100%|██████████| 9/9 [05:55<00:00, 39.49s/it]\n"
     ]
    },
    {
     "name": "stdout",
     "output_type": "stream",
     "text": [
      "IV_D_C_91 1 {'n_estimators': 300, 'min_samples_split': 15, 'max_features': 'sqrt', 'max_depth': 6, 'bootstrap': True}\n"
     ]
    },
    {
     "name": "stderr",
     "output_type": "stream",
     "text": [
      "100%|██████████| 9/9 [06:23<00:00, 42.57s/it]\n"
     ]
    },
    {
     "name": "stdout",
     "output_type": "stream",
     "text": [
      "IV_D_C_91 2 {'n_estimators': 300, 'min_samples_split': 15, 'max_features': 'sqrt', 'max_depth': 6, 'bootstrap': True}\n"
     ]
    },
    {
     "name": "stderr",
     "output_type": "stream",
     "text": [
      "100%|██████████| 9/9 [06:50<00:00, 45.56s/it]\n"
     ]
    },
    {
     "name": "stdout",
     "output_type": "stream",
     "text": [
      "IV_D_C_91 3 {'n_estimators': 300, 'min_samples_split': 50, 'max_features': 'sqrt', 'max_depth': 12, 'bootstrap': True}\n"
     ]
    },
    {
     "name": "stderr",
     "output_type": "stream",
     "text": [
      "100%|██████████| 9/9 [07:18<00:00, 48.69s/it]\n"
     ]
    },
    {
     "name": "stdout",
     "output_type": "stream",
     "text": [
      "IV_D_C_91 4 {'n_estimators': 300, 'min_samples_split': 30, 'max_features': 'sqrt', 'max_depth': 12, 'bootstrap': True}\n"
     ]
    },
    {
     "name": "stderr",
     "output_type": "stream",
     "text": [
      "100%|██████████| 9/9 [07:45<00:00, 51.75s/it]\n"
     ]
    },
    {
     "name": "stdout",
     "output_type": "stream",
     "text": [
      "IV_D_C_91 5 {'n_estimators': 300, 'min_samples_split': 15, 'max_features': 'sqrt', 'max_depth': 12, 'bootstrap': True}\n"
     ]
    },
    {
     "name": "stderr",
     "output_type": "stream",
     "text": [
      "100%|██████████| 9/9 [05:54<00:00, 39.43s/it]\n"
     ]
    },
    {
     "name": "stdout",
     "output_type": "stream",
     "text": [
      "IV_D_P_91 1 {'n_estimators': 300, 'min_samples_split': 15, 'max_features': 'sqrt', 'max_depth': 6, 'bootstrap': True}\n"
     ]
    },
    {
     "name": "stderr",
     "output_type": "stream",
     "text": [
      "100%|██████████| 9/9 [06:22<00:00, 42.51s/it]\n"
     ]
    },
    {
     "name": "stdout",
     "output_type": "stream",
     "text": [
      "IV_D_P_91 2 {'n_estimators': 300, 'min_samples_split': 50, 'max_features': 'sqrt', 'max_depth': 6, 'bootstrap': True}\n"
     ]
    },
    {
     "name": "stderr",
     "output_type": "stream",
     "text": [
      "100%|██████████| 9/9 [06:48<00:00, 45.44s/it]\n"
     ]
    },
    {
     "name": "stdout",
     "output_type": "stream",
     "text": [
      "IV_D_P_91 3 {'n_estimators': 300, 'min_samples_split': 50, 'max_features': 'sqrt', 'max_depth': 12, 'bootstrap': True}\n"
     ]
    },
    {
     "name": "stderr",
     "output_type": "stream",
     "text": [
      "100%|██████████| 9/9 [07:16<00:00, 48.55s/it]\n"
     ]
    },
    {
     "name": "stdout",
     "output_type": "stream",
     "text": [
      "IV_D_P_91 4 {'n_estimators': 300, 'min_samples_split': 15, 'max_features': 'sqrt', 'max_depth': 12, 'bootstrap': True}\n"
     ]
    },
    {
     "name": "stderr",
     "output_type": "stream",
     "text": [
      "100%|██████████| 9/9 [07:44<00:00, 51.63s/it]\n"
     ]
    },
    {
     "name": "stdout",
     "output_type": "stream",
     "text": [
      "IV_D_P_91 5 {'n_estimators': 300, 'min_samples_split': 15, 'max_features': 'sqrt', 'max_depth': 12, 'bootstrap': True}\n",
      "[['IV_D_C_30', 7.877108474840466], ['IV_D_P_30', 8.255414677659456], ['IV_D_C_60', 9.882378795732317], ['IV_D_P_60', 9.733361622710824], ['IV_D_C_91', 11.03872139617852], ['IV_D_P_91', 10.444898615878472]]\n"
     ]
    }
   ],
   "source": [
    "R2_list_rf = []\n",
    "feature_importance_list = []\n",
    "\n",
    "for name in df.iloc[:,9:15]:\n",
    "    \n",
    "    df_iter = df[df[name] <= df[name].quantile(0.95)].copy()\n",
    "    \n",
    "    for p in range(1,6):\n",
    "    \n",
    "        years = np.arange(1996, 2013+p, 1)\n",
    "\n",
    "        locals()['df_train_' + str(p)] = df_iter[df_iter.year.isin(years)]\n",
    "\n",
    "        year = [2013 + p,2014 + p,2015 + p]\n",
    "\n",
    "        locals()['df_val_' + str(p)] = df_iter[df_iter.year.isin(year)]\n",
    "\n",
    "        year = [2016 + p]\n",
    "\n",
    "        locals()['df_test_' + str(p)] = df_iter[df_iter.year.isin(year)]\n",
    "        \n",
    "    true = []\n",
    "    predicted = []\n",
    "    \n",
    "    for j in range(1,6):\n",
    "        y_train = globals()['df_train_'+str(j)][name]\n",
    "        y_val = globals()['df_val_'+str(j)][name]\n",
    "        y_test = globals()['df_test_'+str(j)][name]\n",
    "\n",
    "        X_train = globals()['df_train_'+str(j)].iloc[:,16:]\n",
    "        X_val = globals()['df_val_'+str(j)].iloc[:,16:]\n",
    "        X_test = globals()['df_test_'+str(j)].iloc[:,16:]\n",
    "\n",
    "        val_r2_list = []\n",
    "\n",
    "        for i in tqdm(range(len(train_features))):\n",
    "\n",
    "            regressor = RandomForestRegressor(n_estimators = train_features[i]['n_estimators'], \n",
    "                                              min_samples_split = train_features[i]['min_samples_split'],\n",
    "                                              max_features = train_features[i]['max_features'],\n",
    "                                              max_depth = train_features[i]['max_depth'],\n",
    "                                              bootstrap = train_features[i]['bootstrap'],random_state = 123)\n",
    "\n",
    "            # fit the regressor with x and y data\n",
    "            regressor.fit(X_train, y_train) \n",
    "\n",
    "            y_pred_val = regressor.predict(X_val)\n",
    "\n",
    "            val_r2_list.append(r2_score(y_val, y_pred_val)*100)\n",
    "    \n",
    "            opt = train_features[np.argmax(val_r2_list)]\n",
    "\n",
    "        regressor = RandomForestRegressor(n_estimators = opt['n_estimators'], \n",
    "                                          min_samples_split = opt['min_samples_split'],\n",
    "                                          max_features = opt['max_features'],\n",
    "                                          max_depth = opt['max_depth'],\n",
    "                                          bootstrap = opt['bootstrap'],random_state = 123)\n",
    "        regressor.fit(X_train, y_train) \n",
    "\n",
    "        y_pred_test = regressor.predict(X_test)\n",
    "        \n",
    "        true.extend(y_test)\n",
    "\n",
    "        predicted.extend(y_pred_test)\n",
    "\n",
    "        print(name,j,opt)\n",
    "        \n",
    "    R2_list_rf.append([name,r2_score(true, predicted)*100])\n",
    "    \n",
    "print(R2_list_rf)\n"
   ]
  },
  {
   "cell_type": "code",
   "execution_count": 8,
   "id": "50c4eaeb",
   "metadata": {},
   "outputs": [
    {
     "name": "stderr",
     "output_type": "stream",
     "text": [
      "100%|██████████| 9/9 [04:43<00:00, 31.52s/it]\n"
     ]
    },
    {
     "name": "stdout",
     "output_type": "stream",
     "text": [
      "IV_D_C_30 1 {'n_estimators': 300, 'min_samples_split': 30, 'max_features': 'sqrt', 'max_depth': 6, 'bootstrap': True}\n"
     ]
    },
    {
     "name": "stderr",
     "output_type": "stream",
     "text": [
      "100%|██████████| 9/9 [05:05<00:00, 34.00s/it]\n"
     ]
    },
    {
     "name": "stdout",
     "output_type": "stream",
     "text": [
      "IV_D_C_30 2 {'n_estimators': 300, 'min_samples_split': 15, 'max_features': 'sqrt', 'max_depth': 12, 'bootstrap': True}\n"
     ]
    },
    {
     "name": "stderr",
     "output_type": "stream",
     "text": [
      "100%|██████████| 9/9 [05:28<00:00, 36.47s/it]\n"
     ]
    },
    {
     "name": "stdout",
     "output_type": "stream",
     "text": [
      "IV_D_C_30 3 {'n_estimators': 300, 'min_samples_split': 50, 'max_features': 'sqrt', 'max_depth': 12, 'bootstrap': True}\n"
     ]
    },
    {
     "name": "stderr",
     "output_type": "stream",
     "text": [
      "100%|██████████| 9/9 [05:49<00:00, 38.85s/it]\n"
     ]
    },
    {
     "name": "stdout",
     "output_type": "stream",
     "text": [
      "IV_D_C_30 4 {'n_estimators': 300, 'min_samples_split': 15, 'max_features': 'sqrt', 'max_depth': 12, 'bootstrap': True}\n"
     ]
    },
    {
     "name": "stderr",
     "output_type": "stream",
     "text": [
      "100%|██████████| 9/9 [06:12<00:00, 41.43s/it]\n"
     ]
    },
    {
     "name": "stdout",
     "output_type": "stream",
     "text": [
      "IV_D_C_30 5 {'n_estimators': 300, 'min_samples_split': 15, 'max_features': 'sqrt', 'max_depth': 12, 'bootstrap': True}\n",
      "[['IV_D_C_30', 8.717796480542738]]\n"
     ]
    }
   ],
   "source": [
    "#FINVAR ONLY\n",
    "\n",
    "R2_list_rf = []\n",
    "feature_importance_list = []\n",
    "\n",
    "for name in df.iloc[:,9:10]:\n",
    "    \n",
    "    df_iter = df[df[name] <= df[name].quantile(0.95)].copy()\n",
    "    \n",
    "    for p in range(1,6):\n",
    "    \n",
    "        years = np.arange(1996, 2013+p, 1)\n",
    "\n",
    "        locals()['df_train_' + str(p)] = df_iter[df_iter.year.isin(years)]\n",
    "\n",
    "        year = [2013 + p,2014 + p,2015 + p]\n",
    "\n",
    "        locals()['df_val_' + str(p)] = df_iter[df_iter.year.isin(year)]\n",
    "\n",
    "        year = [2016 + p]\n",
    "\n",
    "        locals()['df_test_' + str(p)] = df_iter[df_iter.year.isin(year)]\n",
    "        \n",
    "    true = []\n",
    "    predicted = []\n",
    "    \n",
    "    for j in range(1,6):\n",
    "        y_train = globals()['df_train_'+str(j)][name]\n",
    "        y_val = globals()['df_val_'+str(j)][name]\n",
    "        y_test = globals()['df_test_'+str(j)][name]\n",
    "\n",
    "        X_train = globals()['df_train_'+str(j)].iloc[:,16:60]\n",
    "        X_val = globals()['df_val_'+str(j)].iloc[:,16:60]\n",
    "        X_test = globals()['df_test_'+str(j)].iloc[:,16:60]\n",
    "\n",
    "        val_r2_list = []\n",
    "\n",
    "        for i in tqdm(range(len(train_features))):\n",
    "\n",
    "            regressor = RandomForestRegressor(n_estimators = train_features[i]['n_estimators'], \n",
    "                                              min_samples_split = train_features[i]['min_samples_split'],\n",
    "                                              max_features = train_features[i]['max_features'],\n",
    "                                              max_depth = train_features[i]['max_depth'],\n",
    "                                              bootstrap = train_features[i]['bootstrap'],random_state = 123)\n",
    "\n",
    "            # fit the regressor with x and y data\n",
    "            regressor.fit(X_train, y_train) \n",
    "\n",
    "            y_pred_val = regressor.predict(X_val)\n",
    "\n",
    "            val_r2_list.append(r2_score(y_val, y_pred_val)*100)\n",
    "    \n",
    "            opt = train_features[np.argmax(val_r2_list)]\n",
    "\n",
    "        regressor = RandomForestRegressor(n_estimators = opt['n_estimators'], \n",
    "                                          min_samples_split = opt['min_samples_split'],\n",
    "                                          max_features = opt['max_features'],\n",
    "                                          max_depth = opt['max_depth'],\n",
    "                                          bootstrap = opt['bootstrap'],random_state = 123)\n",
    "        regressor.fit(X_train, y_train) \n",
    "\n",
    "        y_pred_test = regressor.predict(X_test)\n",
    "        \n",
    "        true.extend(y_test)\n",
    "\n",
    "        predicted.extend(y_pred_test)\n",
    "\n",
    "        print(name,j,opt)\n",
    "        \n",
    "    R2_list_rf.append([name,r2_score(true, predicted)*100])\n",
    "    \n",
    "print(R2_list_rf)\n"
   ]
  },
  {
   "cell_type": "code",
   "execution_count": null,
   "id": "34546871",
   "metadata": {},
   "outputs": [],
   "source": []
  },
  {
   "cell_type": "code",
   "execution_count": null,
   "id": "533f1388",
   "metadata": {},
   "outputs": [],
   "source": []
  },
  {
   "cell_type": "code",
   "execution_count": null,
   "id": "44a05aa4",
   "metadata": {},
   "outputs": [],
   "source": []
  },
  {
   "cell_type": "code",
   "execution_count": null,
   "id": "105cd6b3",
   "metadata": {},
   "outputs": [],
   "source": []
  },
  {
   "cell_type": "code",
   "execution_count": null,
   "id": "a826f96f",
   "metadata": {},
   "outputs": [],
   "source": []
  },
  {
   "cell_type": "code",
   "execution_count": null,
   "id": "5201402a",
   "metadata": {},
   "outputs": [],
   "source": []
  },
  {
   "cell_type": "code",
   "execution_count": null,
   "id": "e577f101",
   "metadata": {},
   "outputs": [],
   "source": []
  },
  {
   "cell_type": "code",
   "execution_count": null,
   "id": "673b545b",
   "metadata": {},
   "outputs": [],
   "source": []
  },
  {
   "cell_type": "code",
   "execution_count": null,
   "id": "ea6d354c",
   "metadata": {},
   "outputs": [],
   "source": []
  },
  {
   "cell_type": "code",
   "execution_count": null,
   "id": "fc2812b5",
   "metadata": {},
   "outputs": [],
   "source": []
  },
  {
   "cell_type": "code",
   "execution_count": null,
   "id": "42de429d",
   "metadata": {},
   "outputs": [],
   "source": []
  }
 ],
 "metadata": {
  "kernelspec": {
   "display_name": "Python 3 (ipykernel)",
   "language": "python",
   "name": "python3"
  },
  "language_info": {
   "codemirror_mode": {
    "name": "ipython",
    "version": 3
   },
   "file_extension": ".py",
   "mimetype": "text/x-python",
   "name": "python",
   "nbconvert_exporter": "python",
   "pygments_lexer": "ipython3",
   "version": "3.9.12"
  }
 },
 "nbformat": 4,
 "nbformat_minor": 5
}
