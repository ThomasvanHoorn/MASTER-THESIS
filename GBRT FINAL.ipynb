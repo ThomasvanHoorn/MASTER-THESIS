{
 "cells": [
  {
   "cell_type": "code",
   "execution_count": 1,
   "id": "ff9ba8c1",
   "metadata": {},
   "outputs": [],
   "source": [
    "#load libraries\n",
    "\n",
    "import numpy as np\n",
    "import pandas as pd\n",
    "from sklearn.metrics import \\\n",
    "    r2_score, get_scorer\n",
    "from sklearn.linear_model import \\\n",
    "    LinearRegression\n",
    "from sklearn.preprocessing import \\\n",
    "    StandardScaler\n",
    "\n",
    "from sklearn.preprocessing import MinMaxScaler\n",
    "\n",
    "from scipy.stats.mstats import winsorize\n",
    "\n",
    "from tqdm import tqdm\n",
    "\n",
    "from sklearn.ensemble import GradientBoostingRegressor\n",
    "\n",
    "from sklearn.model_selection import ParameterGrid\n",
    "\n",
    "import matplotlib.pyplot as plt\n",
    "\n",
    "import xgboost as xgb"
   ]
  },
  {
   "cell_type": "code",
   "execution_count": 2,
   "id": "c0fee046",
   "metadata": {},
   "outputs": [],
   "source": [
    "#load data --> winsorize data --> scale data\n",
    "\n",
    "df = pd.read_csv ('C:\\\\Users\\\\Martijn\\\\Documents\\\\Dataset_unscaled.csv', index_col=0)\n",
    "df.sort_values(by=['year','month'], inplace=True)\n",
    "df = df.reset_index(drop=True)\n",
    "\n",
    "df.iloc[:,16:] = df.iloc[:,16:].apply(lambda x : winsorize(x,(0.1,0.1)))\n",
    "\n",
    "cols_to_scale = list(df.iloc[:,15:].columns)\n",
    "min_max_scaler = MinMaxScaler(feature_range=(-1, 1))\n",
    "\n",
    "df[cols_to_scale] = min_max_scaler.fit_transform(df[cols_to_scale])"
   ]
  },
  {
   "cell_type": "code",
   "execution_count": 3,
   "id": "f4de0086",
   "metadata": {},
   "outputs": [],
   "source": [
    "#create tuning parameters\n",
    "\n",
    "# Number of trees\n",
    "n_estimators = [1000]\n",
    "# shrinkage level\n",
    "learning_rate = [0.01,0.1]\n",
    "# maximum tree depth\n",
    "max_depth = [1,2]\n",
    "\n",
    "param_grid = {'n_estimators': n_estimators, 'learning_rate': learning_rate, \n",
    "              'max_depth': max_depth}\n",
    "tuning_parameters = ParameterGrid(param_grid)"
   ]
  },
  {
   "cell_type": "code",
   "execution_count": 4,
   "id": "96512faf",
   "metadata": {},
   "outputs": [
    {
     "name": "stderr",
     "output_type": "stream",
     "text": [
      "100%|██████████| 4/4 [00:52<00:00, 13.21s/it]\n"
     ]
    },
    {
     "name": "stdout",
     "output_type": "stream",
     "text": [
      "IV_D_C_30 1 {'n_estimators': 1000, 'max_depth': 1, 'learning_rate': 0.01}\n"
     ]
    },
    {
     "name": "stderr",
     "output_type": "stream",
     "text": [
      "100%|██████████| 4/4 [00:55<00:00, 13.89s/it]\n"
     ]
    },
    {
     "name": "stdout",
     "output_type": "stream",
     "text": [
      "IV_D_C_30 2 {'n_estimators': 1000, 'max_depth': 1, 'learning_rate': 0.01}\n"
     ]
    },
    {
     "name": "stderr",
     "output_type": "stream",
     "text": [
      "100%|██████████| 4/4 [01:04<00:00, 16.14s/it]\n"
     ]
    },
    {
     "name": "stdout",
     "output_type": "stream",
     "text": [
      "IV_D_C_30 3 {'n_estimators': 1000, 'max_depth': 1, 'learning_rate': 0.1}\n"
     ]
    },
    {
     "name": "stderr",
     "output_type": "stream",
     "text": [
      "100%|██████████| 4/4 [01:08<00:00, 17.17s/it]\n"
     ]
    },
    {
     "name": "stdout",
     "output_type": "stream",
     "text": [
      "IV_D_C_30 4 {'n_estimators': 1000, 'max_depth': 2, 'learning_rate': 0.1}\n"
     ]
    },
    {
     "name": "stderr",
     "output_type": "stream",
     "text": [
      "100%|██████████| 4/4 [01:12<00:00, 18.07s/it]\n"
     ]
    },
    {
     "name": "stdout",
     "output_type": "stream",
     "text": [
      "IV_D_C_30 5 {'n_estimators': 1000, 'max_depth': 2, 'learning_rate': 0.1}\n"
     ]
    },
    {
     "name": "stderr",
     "output_type": "stream",
     "text": [
      "100%|██████████| 4/4 [00:56<00:00, 14.19s/it]\n"
     ]
    },
    {
     "name": "stdout",
     "output_type": "stream",
     "text": [
      "IV_D_P_30 1 {'n_estimators': 1000, 'max_depth': 1, 'learning_rate': 0.01}\n"
     ]
    },
    {
     "name": "stderr",
     "output_type": "stream",
     "text": [
      "100%|██████████| 4/4 [01:00<00:00, 15.23s/it]\n"
     ]
    },
    {
     "name": "stdout",
     "output_type": "stream",
     "text": [
      "IV_D_P_30 2 {'n_estimators': 1000, 'max_depth': 2, 'learning_rate': 0.1}\n"
     ]
    },
    {
     "name": "stderr",
     "output_type": "stream",
     "text": [
      "100%|██████████| 4/4 [01:04<00:00, 16.19s/it]\n"
     ]
    },
    {
     "name": "stdout",
     "output_type": "stream",
     "text": [
      "IV_D_P_30 3 {'n_estimators': 1000, 'max_depth': 1, 'learning_rate': 0.1}\n"
     ]
    },
    {
     "name": "stderr",
     "output_type": "stream",
     "text": [
      "100%|██████████| 4/4 [01:08<00:00, 17.24s/it]\n"
     ]
    },
    {
     "name": "stdout",
     "output_type": "stream",
     "text": [
      "IV_D_P_30 4 {'n_estimators': 1000, 'max_depth': 2, 'learning_rate': 0.1}\n"
     ]
    },
    {
     "name": "stderr",
     "output_type": "stream",
     "text": [
      "100%|██████████| 4/4 [01:12<00:00, 18.13s/it]\n"
     ]
    },
    {
     "name": "stdout",
     "output_type": "stream",
     "text": [
      "IV_D_P_30 5 {'n_estimators': 1000, 'max_depth': 2, 'learning_rate': 0.1}\n"
     ]
    },
    {
     "name": "stderr",
     "output_type": "stream",
     "text": [
      "100%|██████████| 4/4 [00:56<00:00, 14.19s/it]\n"
     ]
    },
    {
     "name": "stdout",
     "output_type": "stream",
     "text": [
      "IV_D_C_60 1 {'n_estimators': 1000, 'max_depth': 1, 'learning_rate': 0.01}\n"
     ]
    },
    {
     "name": "stderr",
     "output_type": "stream",
     "text": [
      "100%|██████████| 4/4 [01:00<00:00, 15.12s/it]\n"
     ]
    },
    {
     "name": "stdout",
     "output_type": "stream",
     "text": [
      "IV_D_C_60 2 {'n_estimators': 1000, 'max_depth': 1, 'learning_rate': 0.01}\n"
     ]
    },
    {
     "name": "stderr",
     "output_type": "stream",
     "text": [
      "100%|██████████| 4/4 [01:04<00:00, 16.05s/it]\n"
     ]
    },
    {
     "name": "stdout",
     "output_type": "stream",
     "text": [
      "IV_D_C_60 3 {'n_estimators': 1000, 'max_depth': 1, 'learning_rate': 0.01}\n"
     ]
    },
    {
     "name": "stderr",
     "output_type": "stream",
     "text": [
      "100%|██████████| 4/4 [01:08<00:00, 17.04s/it]\n"
     ]
    },
    {
     "name": "stdout",
     "output_type": "stream",
     "text": [
      "IV_D_C_60 4 {'n_estimators': 1000, 'max_depth': 2, 'learning_rate': 0.01}\n"
     ]
    },
    {
     "name": "stderr",
     "output_type": "stream",
     "text": [
      "100%|██████████| 4/4 [01:11<00:00, 18.00s/it]\n"
     ]
    },
    {
     "name": "stdout",
     "output_type": "stream",
     "text": [
      "IV_D_C_60 5 {'n_estimators': 1000, 'max_depth': 2, 'learning_rate': 0.1}\n"
     ]
    },
    {
     "name": "stderr",
     "output_type": "stream",
     "text": [
      "100%|██████████| 4/4 [00:56<00:00, 14.18s/it]\n"
     ]
    },
    {
     "name": "stdout",
     "output_type": "stream",
     "text": [
      "IV_D_P_60 1 {'n_estimators': 1000, 'max_depth': 2, 'learning_rate': 0.01}\n"
     ]
    },
    {
     "name": "stderr",
     "output_type": "stream",
     "text": [
      "100%|██████████| 4/4 [01:00<00:00, 15.15s/it]\n"
     ]
    },
    {
     "name": "stdout",
     "output_type": "stream",
     "text": [
      "IV_D_P_60 2 {'n_estimators': 1000, 'max_depth': 2, 'learning_rate': 0.01}\n"
     ]
    },
    {
     "name": "stderr",
     "output_type": "stream",
     "text": [
      "100%|██████████| 4/4 [01:04<00:00, 16.05s/it]\n"
     ]
    },
    {
     "name": "stdout",
     "output_type": "stream",
     "text": [
      "IV_D_P_60 3 {'n_estimators': 1000, 'max_depth': 1, 'learning_rate': 0.1}\n"
     ]
    },
    {
     "name": "stderr",
     "output_type": "stream",
     "text": [
      "100%|██████████| 4/4 [01:08<00:00, 17.17s/it]\n"
     ]
    },
    {
     "name": "stdout",
     "output_type": "stream",
     "text": [
      "IV_D_P_60 4 {'n_estimators': 1000, 'max_depth': 2, 'learning_rate': 0.1}\n"
     ]
    },
    {
     "name": "stderr",
     "output_type": "stream",
     "text": [
      "100%|██████████| 4/4 [01:13<00:00, 18.34s/it]\n"
     ]
    },
    {
     "name": "stdout",
     "output_type": "stream",
     "text": [
      "IV_D_P_60 5 {'n_estimators': 1000, 'max_depth': 2, 'learning_rate': 0.1}\n"
     ]
    },
    {
     "name": "stderr",
     "output_type": "stream",
     "text": [
      "100%|██████████| 4/4 [00:56<00:00, 14.18s/it]\n"
     ]
    },
    {
     "name": "stdout",
     "output_type": "stream",
     "text": [
      "IV_D_C_91 1 {'n_estimators': 1000, 'max_depth': 1, 'learning_rate': 0.01}\n"
     ]
    },
    {
     "name": "stderr",
     "output_type": "stream",
     "text": [
      "100%|██████████| 4/4 [01:01<00:00, 15.46s/it]\n"
     ]
    },
    {
     "name": "stdout",
     "output_type": "stream",
     "text": [
      "IV_D_C_91 2 {'n_estimators': 1000, 'max_depth': 1, 'learning_rate': 0.01}\n"
     ]
    },
    {
     "name": "stderr",
     "output_type": "stream",
     "text": [
      "100%|██████████| 4/4 [01:04<00:00, 16.15s/it]\n"
     ]
    },
    {
     "name": "stdout",
     "output_type": "stream",
     "text": [
      "IV_D_C_91 3 {'n_estimators': 1000, 'max_depth': 1, 'learning_rate': 0.01}\n"
     ]
    },
    {
     "name": "stderr",
     "output_type": "stream",
     "text": [
      "100%|██████████| 4/4 [01:07<00:00, 16.93s/it]\n"
     ]
    },
    {
     "name": "stdout",
     "output_type": "stream",
     "text": [
      "IV_D_C_91 4 {'n_estimators': 1000, 'max_depth': 2, 'learning_rate': 0.01}\n"
     ]
    },
    {
     "name": "stderr",
     "output_type": "stream",
     "text": [
      "100%|██████████| 4/4 [01:11<00:00, 17.96s/it]\n"
     ]
    },
    {
     "name": "stdout",
     "output_type": "stream",
     "text": [
      "IV_D_C_91 5 {'n_estimators': 1000, 'max_depth': 2, 'learning_rate': 0.1}\n"
     ]
    },
    {
     "name": "stderr",
     "output_type": "stream",
     "text": [
      "100%|██████████| 4/4 [00:56<00:00, 14.15s/it]\n"
     ]
    },
    {
     "name": "stdout",
     "output_type": "stream",
     "text": [
      "IV_D_P_91 1 {'n_estimators': 1000, 'max_depth': 1, 'learning_rate': 0.01}\n"
     ]
    },
    {
     "name": "stderr",
     "output_type": "stream",
     "text": [
      "100%|██████████| 4/4 [01:00<00:00, 15.05s/it]\n"
     ]
    },
    {
     "name": "stdout",
     "output_type": "stream",
     "text": [
      "IV_D_P_91 2 {'n_estimators': 1000, 'max_depth': 1, 'learning_rate': 0.01}\n"
     ]
    },
    {
     "name": "stderr",
     "output_type": "stream",
     "text": [
      "100%|██████████| 4/4 [01:04<00:00, 16.03s/it]\n"
     ]
    },
    {
     "name": "stdout",
     "output_type": "stream",
     "text": [
      "IV_D_P_91 3 {'n_estimators': 1000, 'max_depth': 2, 'learning_rate': 0.01}\n"
     ]
    },
    {
     "name": "stderr",
     "output_type": "stream",
     "text": [
      "100%|██████████| 4/4 [01:07<00:00, 16.99s/it]\n"
     ]
    },
    {
     "name": "stdout",
     "output_type": "stream",
     "text": [
      "IV_D_P_91 4 {'n_estimators': 1000, 'max_depth': 2, 'learning_rate': 0.01}\n"
     ]
    },
    {
     "name": "stderr",
     "output_type": "stream",
     "text": [
      "100%|██████████| 4/4 [01:12<00:00, 18.09s/it]\n"
     ]
    },
    {
     "name": "stdout",
     "output_type": "stream",
     "text": [
      "IV_D_P_91 5 {'n_estimators': 1000, 'max_depth': 2, 'learning_rate': 0.1}\n",
      "[['IV_D_C_30', 11.584502819383413], ['IV_D_P_30', 12.150676223030466], ['IV_D_C_60', 11.940242235384302], ['IV_D_P_60', 14.31966262442267], ['IV_D_C_91', 12.444738249251852], ['IV_D_P_91', 12.14539968376469]]\n"
     ]
    }
   ],
   "source": [
    "R2_list_gbm = []\n",
    "feature_importance_list = []\n",
    "\n",
    "for name in df.iloc[:,9:15]:\n",
    "    \n",
    "    df_iter = df[df[name] <= df[name].quantile(0.95)].copy()\n",
    "    \n",
    "    for p in range(1,6):\n",
    "    \n",
    "        years = np.arange(1996, 2013+p, 1)\n",
    "\n",
    "        locals()['df_train_' + str(p)] = df_iter[df_iter.year.isin(years)]\n",
    "\n",
    "        year = [2013 + p,2014 + p,2015 + p]\n",
    "\n",
    "        locals()['df_val_' + str(p)] = df_iter[df_iter.year.isin(year)]\n",
    "\n",
    "        year = [2016 + p]\n",
    "\n",
    "        locals()['df_test_' + str(p)] = df_iter[df_iter.year.isin(year)]\n",
    "        \n",
    "    true = []\n",
    "    predicted = []\n",
    "    \n",
    "    for j in range(1,6):\n",
    "        y_train = globals()['df_train_'+str(j)][name]\n",
    "        y_val = globals()['df_val_'+str(j)][name]\n",
    "        y_test = globals()['df_test_'+str(j)][name]\n",
    "\n",
    "        X_train = globals()['df_train_'+str(j)].iloc[:,16:]\n",
    "        X_val = globals()['df_val_'+str(j)].iloc[:,16:]\n",
    "        X_test = globals()['df_test_'+str(j)].iloc[:,16:]\n",
    "\n",
    "        val_r2_list = []\n",
    "\n",
    "        for i in tqdm(range(len(tuning_parameters))):\n",
    "            \n",
    "            GBM = xgb.XGBRegressor(n_estimators=tuning_parameters[i]['n_estimators'],\n",
    "                                    eta = tuning_parameters[i]['learning_rate'],\n",
    "                                    max_depth=tuning_parameters[i]['max_depth'], seed = 123)\n",
    "\n",
    "            # fit the regressor with x and y data\n",
    "            GBM.fit(X_train, y_train) \n",
    "\n",
    "            y_pred_val = GBM.predict(X_val)\n",
    "\n",
    "            val_r2_list.append(r2_score(y_val, y_pred_val)*100)\n",
    "\n",
    "            opt = tuning_parameters[np.argmax(val_r2_list)]\n",
    "        \n",
    "        GBM = xgb.XGBRegressor(n_estimators=opt['n_estimators'],\n",
    "                                eta = opt['learning_rate'],\n",
    "                                max_depth=opt['max_depth'], seed = 123)\n",
    "\n",
    "        GBM.fit(X_train, y_train) \n",
    "\n",
    "        y_pred_test = GBM.predict(X_test)\n",
    "        \n",
    "        true.extend(y_test)\n",
    "\n",
    "        predicted.extend(y_pred_test)\n",
    "        \n",
    "        print(name,j,opt)\n",
    "        \n",
    "    R2_list_gbm.append([name,r2_score(true, predicted)*100])\n",
    "    \n",
    "print(R2_list_gbm)"
   ]
  },
  {
   "cell_type": "code",
   "execution_count": 5,
   "id": "7282d198",
   "metadata": {},
   "outputs": [
    {
     "name": "stderr",
     "output_type": "stream",
     "text": [
      "100%|██████████| 4/4 [00:51<00:00, 12.94s/it]\n"
     ]
    },
    {
     "name": "stdout",
     "output_type": "stream",
     "text": [
      "IV_D_C_30 1 {'n_estimators': 1000, 'max_depth': 1, 'learning_rate': 0.01}\n"
     ]
    },
    {
     "name": "stderr",
     "output_type": "stream",
     "text": [
      "100%|██████████| 4/4 [00:55<00:00, 13.78s/it]\n"
     ]
    },
    {
     "name": "stdout",
     "output_type": "stream",
     "text": [
      "IV_D_C_30 2 {'n_estimators': 1000, 'max_depth': 2, 'learning_rate': 0.01}\n"
     ]
    },
    {
     "name": "stderr",
     "output_type": "stream",
     "text": [
      "100%|██████████| 4/4 [00:58<00:00, 14.68s/it]\n"
     ]
    },
    {
     "name": "stdout",
     "output_type": "stream",
     "text": [
      "IV_D_C_30 3 {'n_estimators': 1000, 'max_depth': 1, 'learning_rate': 0.1}\n"
     ]
    },
    {
     "name": "stderr",
     "output_type": "stream",
     "text": [
      "100%|██████████| 4/4 [01:02<00:00, 15.71s/it]\n"
     ]
    },
    {
     "name": "stdout",
     "output_type": "stream",
     "text": [
      "IV_D_C_30 4 {'n_estimators': 1000, 'max_depth': 2, 'learning_rate': 0.1}\n"
     ]
    },
    {
     "name": "stderr",
     "output_type": "stream",
     "text": [
      "100%|██████████| 4/4 [01:05<00:00, 16.43s/it]\n"
     ]
    },
    {
     "name": "stdout",
     "output_type": "stream",
     "text": [
      "IV_D_C_30 5 {'n_estimators': 1000, 'max_depth': 2, 'learning_rate': 0.1}\n",
      "[['IV_D_C_30', 11.386394138460599]]\n"
     ]
    }
   ],
   "source": [
    "#FINVAR ONLY\n",
    "\n",
    "R2_list_gbm = []\n",
    "feature_importance_list = []\n",
    "\n",
    "for name in df.iloc[:,9:10]:\n",
    "    \n",
    "    df_iter = df[df[name] <= df[name].quantile(0.95)].copy()\n",
    "    \n",
    "    for p in range(1,6):\n",
    "    \n",
    "        years = np.arange(1996, 2013+p, 1)\n",
    "\n",
    "        locals()['df_train_' + str(p)] = df_iter[df_iter.year.isin(years)]\n",
    "\n",
    "        year = [2013 + p,2014 + p,2015 + p]\n",
    "\n",
    "        locals()['df_val_' + str(p)] = df_iter[df_iter.year.isin(year)]\n",
    "\n",
    "        year = [2016 + p]\n",
    "\n",
    "        locals()['df_test_' + str(p)] = df_iter[df_iter.year.isin(year)]\n",
    "        \n",
    "    true = []\n",
    "    predicted = []\n",
    "    \n",
    "    for j in range(1,6):\n",
    "        y_train = globals()['df_train_'+str(j)][name]\n",
    "        y_val = globals()['df_val_'+str(j)][name]\n",
    "        y_test = globals()['df_test_'+str(j)][name]\n",
    "\n",
    "        X_train = globals()['df_train_'+str(j)].iloc[:,16:60]\n",
    "        X_val = globals()['df_val_'+str(j)].iloc[:,16:60]\n",
    "        X_test = globals()['df_test_'+str(j)].iloc[:,16:60]\n",
    "\n",
    "        val_r2_list = []\n",
    "\n",
    "        for i in tqdm(range(len(tuning_parameters))):\n",
    "            \n",
    "            GBM = xgb.XGBRegressor(n_estimators=tuning_parameters[i]['n_estimators'],\n",
    "                                    eta = tuning_parameters[i]['learning_rate'],\n",
    "                                    max_depth=tuning_parameters[i]['max_depth'], seed = 123)\n",
    "\n",
    "            # fit the regressor with x and y data\n",
    "            GBM.fit(X_train, y_train) \n",
    "\n",
    "            y_pred_val = GBM.predict(X_val)\n",
    "\n",
    "            val_r2_list.append(r2_score(y_val, y_pred_val)*100)\n",
    "\n",
    "            opt = tuning_parameters[np.argmax(val_r2_list)]\n",
    "        \n",
    "        GBM = xgb.XGBRegressor(n_estimators=opt['n_estimators'],\n",
    "                                eta = opt['learning_rate'],\n",
    "                                max_depth=opt['max_depth'], seed = 123)\n",
    "\n",
    "        GBM.fit(X_train, y_train) \n",
    "\n",
    "        y_pred_test = GBM.predict(X_test)\n",
    "        \n",
    "        true.extend(y_test)\n",
    "\n",
    "        predicted.extend(y_pred_test)\n",
    "        \n",
    "        print(name,j,opt)\n",
    "        \n",
    "    R2_list_gbm.append([name,r2_score(true, predicted)*100])\n",
    "    \n",
    "print(R2_list_gbm)"
   ]
  },
  {
   "cell_type": "code",
   "execution_count": null,
   "id": "2f1f9f51",
   "metadata": {},
   "outputs": [],
   "source": []
  },
  {
   "cell_type": "code",
   "execution_count": null,
   "id": "e5bf1af0",
   "metadata": {},
   "outputs": [],
   "source": []
  },
  {
   "cell_type": "code",
   "execution_count": null,
   "id": "47e74edd",
   "metadata": {},
   "outputs": [],
   "source": []
  },
  {
   "cell_type": "code",
   "execution_count": null,
   "id": "94fd96f6",
   "metadata": {},
   "outputs": [],
   "source": []
  },
  {
   "cell_type": "code",
   "execution_count": null,
   "id": "2754dae2",
   "metadata": {},
   "outputs": [],
   "source": []
  },
  {
   "cell_type": "code",
   "execution_count": null,
   "id": "83efcbd9",
   "metadata": {},
   "outputs": [],
   "source": []
  },
  {
   "cell_type": "code",
   "execution_count": null,
   "id": "84241973",
   "metadata": {},
   "outputs": [],
   "source": []
  },
  {
   "cell_type": "code",
   "execution_count": null,
   "id": "b7d0e61b",
   "metadata": {},
   "outputs": [],
   "source": []
  },
  {
   "cell_type": "code",
   "execution_count": null,
   "id": "27b1eee6",
   "metadata": {},
   "outputs": [],
   "source": []
  },
  {
   "cell_type": "code",
   "execution_count": null,
   "id": "469b7e46",
   "metadata": {},
   "outputs": [],
   "source": []
  },
  {
   "cell_type": "code",
   "execution_count": null,
   "id": "b896b5ac",
   "metadata": {},
   "outputs": [],
   "source": []
  }
 ],
 "metadata": {
  "kernelspec": {
   "display_name": "Python 3 (ipykernel)",
   "language": "python",
   "name": "python3"
  },
  "language_info": {
   "codemirror_mode": {
    "name": "ipython",
    "version": 3
   },
   "file_extension": ".py",
   "mimetype": "text/x-python",
   "name": "python",
   "nbconvert_exporter": "python",
   "pygments_lexer": "ipython3",
   "version": "3.9.12"
  }
 },
 "nbformat": 4,
 "nbformat_minor": 5
}
