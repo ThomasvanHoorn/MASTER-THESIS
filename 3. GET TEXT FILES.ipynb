{
 "cells": [
  {
   "cell_type": "code",
   "execution_count": 2,
   "id": "7f1ad38d",
   "metadata": {},
   "outputs": [],
   "source": [
    "import pandas as pd\n",
    "import numpy as np\n",
    "import os\n",
    "import json\n",
    "from bs4 import BeautifulSoup\n",
    "import requests\n",
    "from tqdm import tqdm\n",
    "import math\n",
    "import re\n",
    "\n",
    "#load the index file that has all the filenames and file urls\n",
    "df = pd.read_csv(\"/Users/thomasvanhoorn/Documents/THESIS NEW/DATA/2.PREPARE MASTERFILE AND FACTOR FILE/final_index_file.csv\")"
   ]
  },
  {
   "cell_type": "markdown",
   "id": "694dc378",
   "metadata": {},
   "source": [
    "## Here I just take the pre-processed 10K files from Laughran and Mcdonald to create my text sample"
   ]
  },
  {
   "cell_type": "code",
   "execution_count": 2,
   "id": "aa845e8f",
   "metadata": {},
   "outputs": [],
   "source": [
    "df['To_delete'] = df['filing_url'].apply(lambda x: x.split('/')[8])\n",
    "\n",
    "df['Lookup_Value'] = df['To_delete'].apply(lambda x: x[0:20])"
   ]
  },
  {
   "cell_type": "code",
   "execution_count": 3,
   "id": "ac03aedb",
   "metadata": {},
   "outputs": [],
   "source": [
    "df = df.drop('To_delete',axis=1)"
   ]
  },
  {
   "cell_type": "code",
   "execution_count": 4,
   "id": "587154df",
   "metadata": {},
   "outputs": [],
   "source": [
    "df['Year'] = df['Y_Q'].apply(lambda x: x[0:4])"
   ]
  },
  {
   "cell_type": "code",
   "execution_count": 5,
   "id": "7c42a001",
   "metadata": {},
   "outputs": [],
   "source": [
    "df['Quarter'] = df['Y_Q'].apply(lambda x: x[-1])"
   ]
  },
  {
   "cell_type": "code",
   "execution_count": 6,
   "id": "5f644b2c",
   "metadata": {},
   "outputs": [],
   "source": [
    "df['text'] = np.nan"
   ]
  },
  {
   "cell_type": "code",
   "execution_count": 7,
   "id": "f5f346ab",
   "metadata": {},
   "outputs": [
    {
     "name": "stderr",
     "output_type": "stream",
     "text": [
      "C:\\Users\\marti\\AppData\\Local\\Temp/ipykernel_9092/1787556921.py:1: FutureWarning: In a future version of pandas all arguments of DataFrame.drop except for the argument 'labels' will be keyword-only\n",
      "  df = df.drop([\"access_number\", 'accepted_date', 'filing_url'], 1)\n",
      "  0%|          | 5/8691 [00:00<03:40, 39.31it/s]"
     ]
    },
    {
     "name": "stdout",
     "output_type": "stream",
     "text": [
      "i = 0\n"
     ]
    },
    {
     "name": "stderr",
     "output_type": "stream",
     "text": [
      " 12%|█▏        | 1003/8691 [01:00<06:18, 20.34it/s]"
     ]
    },
    {
     "name": "stdout",
     "output_type": "stream",
     "text": [
      "i = 1000\n"
     ]
    },
    {
     "name": "stderr",
     "output_type": "stream",
     "text": [
      " 23%|██▎       | 2006/8691 [01:52<04:16, 26.11it/s]"
     ]
    },
    {
     "name": "stdout",
     "output_type": "stream",
     "text": [
      "i = 2000\n"
     ]
    },
    {
     "name": "stderr",
     "output_type": "stream",
     "text": [
      " 35%|███▍      | 3003/8691 [02:41<05:23, 17.58it/s]"
     ]
    },
    {
     "name": "stdout",
     "output_type": "stream",
     "text": [
      "i = 3000\n"
     ]
    },
    {
     "name": "stderr",
     "output_type": "stream",
     "text": [
      " 46%|████▌     | 4004/8691 [03:27<03:34, 21.81it/s]"
     ]
    },
    {
     "name": "stdout",
     "output_type": "stream",
     "text": [
      "i = 4000\n"
     ]
    },
    {
     "name": "stderr",
     "output_type": "stream",
     "text": [
      " 58%|█████▊    | 5004/8691 [04:06<01:56, 31.67it/s]"
     ]
    },
    {
     "name": "stdout",
     "output_type": "stream",
     "text": [
      "i = 5000\n"
     ]
    },
    {
     "name": "stderr",
     "output_type": "stream",
     "text": [
      " 69%|██████▉   | 6002/8691 [04:41<01:32, 29.18it/s]"
     ]
    },
    {
     "name": "stdout",
     "output_type": "stream",
     "text": [
      "i = 6000\n"
     ]
    },
    {
     "name": "stderr",
     "output_type": "stream",
     "text": [
      " 69%|██████▉   | 6019/8691 [04:42<01:12, 36.77it/s]"
     ]
    },
    {
     "name": "stdout",
     "output_type": "stream",
     "text": [
      "RED_FLAG 6016\n"
     ]
    },
    {
     "name": "stderr",
     "output_type": "stream",
     "text": [
      " 81%|████████  | 7003/8691 [05:13<00:57, 29.13it/s]"
     ]
    },
    {
     "name": "stdout",
     "output_type": "stream",
     "text": [
      "i = 7000\n"
     ]
    },
    {
     "name": "stderr",
     "output_type": "stream",
     "text": [
      " 92%|█████████▏| 8005/8691 [05:43<00:18, 37.50it/s]"
     ]
    },
    {
     "name": "stdout",
     "output_type": "stream",
     "text": [
      "i = 8000\n"
     ]
    },
    {
     "name": "stderr",
     "output_type": "stream",
     "text": [
      "100%|██████████| 8691/8691 [06:06<00:00, 23.69it/s]\n"
     ]
    }
   ],
   "source": [
    "df = df.drop([\"access_number\", 'accepted_date', 'filing_url'], 1)\n",
    "\n",
    "dictio = {}\n",
    "\n",
    "def remove_html_tags(text):\n",
    "    \"\"\"Remove html tags from a string\"\"\"\n",
    "    import re\n",
    "    clean = re.compile('<.*?>')\n",
    "    return re.sub(clean, '', text)\n",
    "\n",
    "for i in tqdm(range(len(df))):\n",
    "    \n",
    "    if i % 1000 == 0: \n",
    "        print('i = {}'.format(i))\n",
    "        \n",
    "    if df['report_url'][i] in dictio:\n",
    "        math.isnan(df['text'][i])\n",
    "        df = df.drop(i)\n",
    "        \n",
    "        continue\n",
    "        \n",
    "    dictio[df['report_url'][i]] = i\n",
    "    \n",
    "    os.chdir(\"D:\\\\THOMAS THESIS\\\\DATA\\\\10KQ PER YEAR\\\\\" + str(df['Year'][i]) + '\\\\' + 'QTR' + str(df['Quarter'][i]))\n",
    "    y = os.listdir()\n",
    "    u = df['cik'][i]\n",
    "    u2 = '_' + str(u) + '_'\n",
    "    z = [s for s in y if df['Lookup_Value'][i] in s]\n",
    "    \n",
    "    if z == []:\n",
    "        dictio[df['report_url'][i]] = 'NA'\n",
    "        print('RED_FLAG', i)\n",
    "    else:\n",
    "    \n",
    "        res = [j for j in z if str(u2) in j]\n",
    "    \n",
    "        res2 = str(res).strip(\"'][\")\n",
    "    \n",
    "        x = \"D:\\\\THOMAS THESIS\\\\DATA\\\\10KQ PER YEAR\\\\\" + str(df['Year'][i]) + '\\\\' + 'QTR' + str(df['Quarter'][i]) + '\\\\' + str(res2)\n",
    "    \n",
    "        #with open(x) as f:\n",
    "            #contents = f.readlines()\n",
    "            \n",
    "        with open(x, 'r') as f:\n",
    "            text = f.read()\n",
    "        \n",
    "        text2 = remove_html_tags(text)\n",
    "        \n",
    "        df.loc[i,'text']= re.sub(r'[\\ \\n]{2,}', ' ', text2)"
   ]
  },
  {
   "cell_type": "code",
   "execution_count": 13,
   "id": "8827d0df",
   "metadata": {},
   "outputs": [
    {
     "name": "stderr",
     "output_type": "stream",
     "text": [
      "C:\\Users\\marti\\AppData\\Local\\Temp/ipykernel_9092/1655141114.py:1: FutureWarning: In a future version of pandas all arguments of DataFrame.drop except for the argument 'labels' will be keyword-only\n",
      "  df = df.drop([\"Lookup_Value\", 'Year', 'Quarter'], 1)\n"
     ]
    }
   ],
   "source": [
    "df = df.drop([\"Lookup_Value\", 'Year', 'Quarter'], 1)\n",
    "\n",
    "df.to_pickle(\"D:\\THOMAS THESIS\\DATA\\MASTER INDEX FILES WITH TEXT DATA\\IDX FILE WITH TEXT DATA.pkl\")  \n",
    "\n",
    "df.to_csv(\"D:\\THOMAS THESIS\\DATA\\MASTER INDEX FILES WITH TEXT DATA\\IDX FILE WITH TEXT DATA.csv\")"
   ]
  },
  {
   "cell_type": "code",
   "execution_count": 3,
   "id": "46771770",
   "metadata": {},
   "outputs": [],
   "source": [
    "unpickled_df = pd.read_pickle(\"D:\\THOMAS THESIS\\DATA\\MASTER INDEX FILES WITH TEXT DATA\\IDX FILE WITH TEXT DATA.pkl\")  "
   ]
  }
 ],
 "metadata": {
  "kernelspec": {
   "display_name": "Python 3 (ipykernel)",
   "language": "python",
   "name": "python3"
  },
  "language_info": {
   "codemirror_mode": {
    "name": "ipython",
    "version": 3
   },
   "file_extension": ".py",
   "mimetype": "text/x-python",
   "name": "python",
   "nbconvert_exporter": "python",
   "pygments_lexer": "ipython3",
   "version": "3.9.12"
  }
 },
 "nbformat": 4,
 "nbformat_minor": 5
}
